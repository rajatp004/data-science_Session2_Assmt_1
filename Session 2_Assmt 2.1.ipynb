{
 "cells": [
  {
   "cell_type": "markdown",
   "metadata": {},
   "source": [
    "Write a program which accepts a sequence of comma-separated numbers from console and generate a list."
   ]
  },
  {
   "cell_type": "code",
   "execution_count": null,
   "metadata": {},
   "outputs": [],
   "source": [
    "# Suppose the following input is supplied to the program:\n",
    "# 34,67,55,33,12,98\n",
    "# Then, the output should be:\n",
    "# ['34', '67', '55', '33', '12', '98']\n",
    "# ('34', '67', '55', '33', '12', '98')\n",
    "\n",
    "nums= raw input(\"34, 67, 55, 33, 12, 98: \"). split(',')\n",
    "print(nums)\n",
    "print tuple(nums)"
   ]
  },
  {
   "cell_type": "code",
   "execution_count": null,
   "metadata": {},
   "outputs": [
    {
     "name": "stdout",
     "output_type": "stream",
     "text": [
      "34, 67, 55, 33, 12, 98: 34, 67, 33, 12, 98\n",
      "list :  ['34', ' 67', ' 33', ' 12', ' 98']\n",
      "tuple :  ('34', ' 67', ' 33', ' 12', ' 98')\n"
     ]
    }
   ],
   "source": [
    "values= input(\"34, 67, 55, 33, 12, 98: \")\n",
    "list= values.split(\",\")\n",
    "tuple=tuple(list)\n",
    "print('list : ',list)\n",
    "print('tuple : ',tuple)"
   ]
  },
  {
   "cell_type": "code",
   "execution_count": null,
   "metadata": {},
   "outputs": [],
   "source": [
    "values = input(\"34, 67, 55, 33, 12, 98 : \")\n",
    "list = values.split(\",\")\n",
    "tuple = tuple(list)\n",
    "print('List : ',list)\n",
    "print('tuple : ',tuple)"
   ]
  },
  {
   "cell_type": "code",
   "execution_count": null,
   "metadata": {},
   "outputs": [],
   "source": [
    "num=34, 67, 55, 33, 12, 98\n",
    "t=tuple(num)\n",
    "l=list(num)\n",
    "print(\"input number are:\",num)\n",
    "print(\"this is a tuple:\",l)"
   ]
  },
  {
   "cell_type": "code",
   "execution_count": null,
   "metadata": {},
   "outputs": [],
   "source": [
    "Sample_data =input(\"34, 67, 55, 33, 12, 98\")\n",
    "print(list(Sample_data))\n",
    "print(tuple(Sample_data))"
   ]
  },
  {
   "cell_type": "code",
   "execution_count": null,
   "metadata": {},
   "outputs": [],
   "source": [
    "mylist = input('34, 67, 55, 33, 12, 98(comma seperated):').split(',')\n",
    "mytuple = tuple(mylist)\n",
    "print('List:', mylist)\n",
    "print('Tuple:', mytuple)"
   ]
  },
  {
   "cell_type": "code",
   "execution_count": null,
   "metadata": {},
   "outputs": [],
   "source": [
    "numbers=input(\"34, 67, 55, 33, 12, 98 : \")\n",
    "my_list = numbers.split(\",\")\n",
    "my_tuple = tuple(my_list)\n",
    "print(\"your list is \", my_list)\n",
    "print(\"and your tuple is \", my_tuple)"
   ]
  },
  {
   "cell_type": "code",
   "execution_count": null,
   "metadata": {},
   "outputs": [],
   "source": [
    "numbers=input(\"34,67,55,33,12,98:\")\n",
    "my_list = numbers.split(\",\")\n",
    "my_tuple= tuple(my_list)\n",
    "print(\"your list is\", my_list)\n",
    "print(\"and your tuple is\", my_tuple)"
   ]
  },
  {
   "cell_type": "code",
   "execution_count": null,
   "metadata": {},
   "outputs": [],
   "source": []
  }
 ],
 "metadata": {
  "kernelspec": {
   "display_name": "Python 3",
   "language": "python",
   "name": "python3"
  },
  "language_info": {
   "codemirror_mode": {
    "name": "ipython",
    "version": 3
   },
   "file_extension": ".py",
   "mimetype": "text/x-python",
   "name": "python",
   "nbconvert_exporter": "python",
   "pygments_lexer": "ipython3",
   "version": "3.6.4"
  }
 },
 "nbformat": 4,
 "nbformat_minor": 2
}
